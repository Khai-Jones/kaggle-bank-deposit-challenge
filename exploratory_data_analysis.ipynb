{
 "cells": [
  {
   "cell_type": "code",
   "execution_count": null,
   "id": "ea8f0e5a-eb3a-40b8-97cf-89e8e6229386",
   "metadata": {},
   "outputs": [],
   "source": [
    "import seaborn as sns\n",
    "import matplotlib as pyplot \n",
    "import pandas as pd "
   ]
  },
  {
   "cell_type": "code",
   "execution_count": null,
   "id": "bde598b3-3e78-433f-950c-534d5ef658cd",
   "metadata": {},
   "outputs": [],
   "source": [
    "# Conversion rate by contact history\n",
    "print(train_df.groupby('previously_contacted')['y'].mean())\n",
    "print(train_df.groupby('poutcome')['y'].mean())"
   ]
  }
 ],
 "metadata": {
  "kernelspec": {
   "display_name": "Python 3 (ipykernel)",
   "language": "python",
   "name": "python3"
  },
  "language_info": {
   "codemirror_mode": {
    "name": "ipython",
    "version": 3
   },
   "file_extension": ".py",
   "mimetype": "text/x-python",
   "name": "python",
   "nbconvert_exporter": "python",
   "pygments_lexer": "ipython3",
   "version": "3.10.18"
  }
 },
 "nbformat": 4,
 "nbformat_minor": 5
}
