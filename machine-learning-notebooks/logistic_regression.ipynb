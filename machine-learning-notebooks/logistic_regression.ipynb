{
 "cells": [
  {
   "cell_type": "code",
   "execution_count": 11,
   "id": "04fb7964-508c-46f3-97ec-b25ec1a417d2",
   "metadata": {},
   "outputs": [],
   "source": [
    "import pandas as pd\n",
    "from sklearn.model_selection import train_test_split\n",
    "from sklearn.linear_model import LogisticRegression\n",
    "from sklearn.preprocessing import StandardScaler\n",
    "from sklearn.metrics import classification_report, confusion_matrix, accuracy_score\n",
    "from sklearn.exceptions import ConvergenceWarning \n",
    "import warnings"
   ]
  },
  {
   "cell_type": "code",
   "execution_count": 3,
   "id": "099e8e6b-c410-4bef-85a3-5306013a86e6",
   "metadata": {},
   "outputs": [],
   "source": [
    "encoded_df = pd.read_csv(\"../data/encoded_df.csv\")"
   ]
  },
  {
   "cell_type": "code",
   "execution_count": null,
   "id": "5e30473c-d604-48ea-b22d-80f24567428e",
   "metadata": {},
   "outputs": [],
   "source": [
    "X = encoded_df.drop('y', axis=1)\n",
    "y = encoded_df['y']\n",
    "\n",
    "\n",
    "X_train, X_test, y_train, y_test = train_test_split(X, y, test_size=0.3, random_state=42)\n",
    "\n",
    "potential_num_cols = ['age', 'balance', 'duration', 'campaign', 'previous', 'days_since_last_contact']\n",
    "num_cols_to_scale = [col for col in potential_num_cols if col in X_train.columns]\n",
    "\n",
    "scaler = StandardScaler()\n",
    "X_train[num_cols_to_scale] = scaler.fit_transform(X_train[num_cols_to_scale])\n",
    "X_test[num_cols_to_scale] = scaler.transform(X_test[num_cols_to_scale])\n",
    "\n",
    "\n",
    "log_reg = LogisticRegression(random_state=42, max_iter=5000)\n",
    "\n",
    "with warnings.catch_warnings():\n",
    "    warnings.filterwarnings(\"ignore\", category=ConvergenceWarning)\n",
    "    log_reg.fit(X_train, y_train)\n",
    "\n",
    "# Prediction\n",
    "y_pred = log_reg.predict(X_test)"
   ]
  },
  {
   "cell_type": "code",
   "execution_count": null,
   "id": "9e5f115d-bc7b-4d2d-8b99-dbf0adfe0e42",
   "metadata": {},
   "outputs": [],
   "source": [
    "print(\"Logistic Regression Model Evaluation:\")\n",
    "print(\"=\"*35)\n",
    "print(f\"Accuracy Score: {accuracy_score(y_test, y_pred):.4f}\")\n",
    "print(\"\\nClassification Report:\")\n",
    "print(classification_report(y_test, y_pred))\n",
    "print(\"\\nConfusion Matrix:\")\n",
    "print(confusion_matrix(y_test, y_pred))"
   ]
  }
 ],
 "metadata": {
  "kernelspec": {
   "display_name": "Python 3 (ipykernel)",
   "language": "python",
   "name": "python3"
  },
  "language_info": {
   "codemirror_mode": {
    "name": "ipython",
    "version": 3
   },
   "file_extension": ".py",
   "mimetype": "text/x-python",
   "name": "python",
   "nbconvert_exporter": "python",
   "pygments_lexer": "ipython3",
   "version": "3.13.5"
  }
 },
 "nbformat": 4,
 "nbformat_minor": 5
}
