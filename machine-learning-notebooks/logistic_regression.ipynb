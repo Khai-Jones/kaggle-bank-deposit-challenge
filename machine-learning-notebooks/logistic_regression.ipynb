{
 "cells": [
  {
   "cell_type": "code",
   "execution_count": 3,
   "id": "04fb7964-508c-46f3-97ec-b25ec1a417d2",
   "metadata": {},
   "outputs": [],
   "source": [
    "import pandas as pd\n",
    "from sklearn.model_selection import train_test_split\n",
    "from sklearn.linear_model import LogisticRegression\n",
    "from sklearn.preprocessing import StandardScaler\n",
    "from sklearn.metrics import classification_report, confusion_matrix, accuracy_score\n",
    "from sklearn.exceptions import ConvergenceWarning \n",
    "import warnings"
   ]
  },
  {
   "cell_type": "code",
   "execution_count": 4,
   "id": "099e8e6b-c410-4bef-85a3-5306013a86e6",
   "metadata": {},
   "outputs": [],
   "source": [
    "encoded_df = pd.read_csv(\"../data/encoded_df.csv\")"
   ]
  },
  {
   "cell_type": "code",
   "execution_count": 6,
   "id": "5e30473c-d604-48ea-b22d-80f24567428e",
   "metadata": {},
   "outputs": [
    {
     "name": "stdout",
     "output_type": "stream",
     "text": [
      "Fitting 5 folds for each of 10 candidates, totalling 50 fits\n",
      "Best Parameters found by Grid Search: {'model__C': 0.01, 'model__solver': 'lbfgs'}\n"
     ]
    }
   ],
   "source": [
    "# Separate features and target\n",
    "X = encoded_df.drop('y', axis=1)\n",
    "y = encoded_df['y']\n",
    "\n",
    "\n",
    "X_train, X_test, y_train, y_test = train_test_split(X, y, test_size=0.3, random_state=42)\n",
    "\n",
    "# Import necessary libraries\n",
    "from sklearn.model_selection import GridSearchCV\n",
    "from sklearn.pipeline import Pipeline\n",
    "from sklearn.preprocessing import StandardScaler\n",
    "from sklearn.linear_model import LogisticRegression\n",
    "import warnings\n",
    "from sklearn.exceptions import ConvergenceWarning\n",
    "\n",
    "pipeline = Pipeline([\n",
    "    ('scaler', StandardScaler()), \n",
    "    ('model', LogisticRegression(random_state=42, max_iter=5000, class_weight='balanced'))\n",
    "])\n",
    "\n",
    "\n",
    "param_grid = {\n",
    "    'model__C': [0.01, 0.1, 1, 10, 100],\n",
    "    'model__solver': ['liblinear', 'lbfgs']\n",
    "}\n",
    "\n",
    "grid_search = GridSearchCV(pipeline, param_grid, cv=5, scoring='accuracy', n_jobs=-1, verbose=1)\n",
    "\n",
    "with warnings.catch_warnings():\n",
    "    warnings.filterwarnings(\"ignore\", category=ConvergenceWarning)\n",
    "    # Pass the original X_train, the pipeline handles the rest\n",
    "    grid_search.fit(X_train, y_train)\n",
    "\n",
    "\n",
    "log_reg_best = grid_search.best_estimator_\n",
    "\n",
    "y_pred = log_reg_best.predict(X_test)\n",
    "\n",
    "print(\"Best Parameters found by Grid Search:\", grid_search.best_params_)"
   ]
  },
  {
   "cell_type": "code",
   "execution_count": 7,
   "id": "9e5f115d-bc7b-4d2d-8b99-dbf0adfe0e42",
   "metadata": {},
   "outputs": [
    {
     "name": "stdout",
     "output_type": "stream",
     "text": [
      "Optimized Logistic Regression Model Evaluation:\n",
      "=============================================\n",
      "Accuracy Score: 0.8619\n",
      "\n",
      "Classification Report:\n",
      "              precision    recall  f1-score   support\n",
      "\n",
      "           0       0.98      0.86      0.92    197683\n",
      "           1       0.46      0.87      0.61     27317\n",
      "\n",
      "    accuracy                           0.86    225000\n",
      "   macro avg       0.72      0.87      0.76    225000\n",
      "weighted avg       0.92      0.86      0.88    225000\n",
      "\n",
      "\n",
      "Confusion Matrix:\n",
      "[[170131  27552]\n",
      " [  3516  23801]]\n"
     ]
    }
   ],
   "source": [
    "print(\"Optimized Logistic Regression Model Evaluation:\")\n",
    "print(\"=\"*45)\n",
    "print(f\"Accuracy Score: {accuracy_score(y_test, y_pred):.4f}\")\n",
    "print(\"\\nClassification Report:\")\n",
    "print(classification_report(y_test, y_pred))\n",
    "print(\"\\nConfusion Matrix:\")\n",
    "print(confusion_matrix(y_test, y_pred))"
   ]
  },
  {
   "cell_type": "code",
   "execution_count": null,
   "id": "4a9df2ed-822d-4c5a-abd9-3a02234947e8",
   "metadata": {},
   "outputs": [],
   "source": []
  }
 ],
 "metadata": {
  "kernelspec": {
   "display_name": "Python 3 (ipykernel)",
   "language": "python",
   "name": "python3"
  },
  "language_info": {
   "codemirror_mode": {
    "name": "ipython",
    "version": 3
   },
   "file_extension": ".py",
   "mimetype": "text/x-python",
   "name": "python",
   "nbconvert_exporter": "python",
   "pygments_lexer": "ipython3",
   "version": "3.13.5"
  }
 },
 "nbformat": 4,
 "nbformat_minor": 5
}
